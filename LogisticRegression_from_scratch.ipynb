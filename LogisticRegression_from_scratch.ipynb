{
  "nbformat": 4,
  "nbformat_minor": 0,
  "metadata": {
    "colab": {
      "provenance": [],
      "authorship_tag": "ABX9TyNzrTaTN9+bliSEWbXjMeko",
      "include_colab_link": true
    },
    "kernelspec": {
      "name": "python3",
      "display_name": "Python 3"
    },
    "language_info": {
      "name": "python"
    }
  },
  "cells": [
    {
      "cell_type": "markdown",
      "metadata": {
        "id": "view-in-github",
        "colab_type": "text"
      },
      "source": [
        "<a href=\"https://colab.research.google.com/github/parveen180/ML-/blob/main/LogisticRegression_from_scratch.ipynb\" target=\"_parent\"><img src=\"https://colab.research.google.com/assets/colab-badge.svg\" alt=\"Open In Colab\"/></a>"
      ]
    },
    {
      "cell_type": "markdown",
      "source": [
        "Logistic Regression\n",
        "\n",
        "\n",
        "*   y^=1/(1+e^-z)\n",
        "*   z=w.x+b\n",
        "\n"
      ],
      "metadata": {
        "id": "IwNXg7LLq93h"
      }
    },
    {
      "cell_type": "markdown",
      "source": [
        "Gradient descent\n",
        "\n",
        "*   w=w-a*dw\n",
        "*   b=b-a*db\n"
      ],
      "metadata": {
        "id": "0D8YEcp0qPsg"
      }
    },
    {
      "cell_type": "markdown",
      "source": [
        "Derivative\n",
        "\n",
        "\n",
        "* dw=1/m*(y^-y)x\n",
        "* db=1/m*(y^-y)"
      ],
      "metadata": {
        "id": "3byrullrqUjU"
      }
    },
    {
      "cell_type": "code",
      "execution_count": 45,
      "metadata": {
        "id": "clG7SneAgsVW"
      },
      "outputs": [],
      "source": [
        "import numpy as np\n",
        "import matplotlib.pyplot as plt\n",
        "import pandas as pd\n",
        "import Log_Reg"
      ]
    },
    {
      "cell_type": "code",
      "source": [
        "class LogisticRegression():\n",
        "\n",
        "    def __init__(self,learning_rate,no_of_iterations):\n",
        "\n",
        "        self.learning_rate=learning_rate\n",
        "        self.no_of_iterations=no_of_iterations\n",
        "\n",
        "    def fit(self,x,y):\n",
        "\n",
        "        #no of rows and columns of metrix of features\n",
        "        self.m,self.n=x.shape\n",
        "\n",
        "        #weight and bias\n",
        "        self.w=np.zeros(self.n)\n",
        "        self.b=0\n",
        "        self.x=x\n",
        "        self.y=y\n",
        "\n",
        "        #gradient descent\n",
        "        for i in range(self.no_of_iterations):\n",
        "            self.update_weights()\n",
        "\n",
        "\n",
        "    def update_weights(self):\n",
        "\n",
        "        #sigmoid function\n",
        "\n",
        "        y_hat=1/(1+np.exp(-self.x.dot(self.w)+self.b))\n",
        "\n",
        "        #derivatives\n",
        "\n",
        "        dw=(1/self.m)*np.dot(self.x.T,(y_hat-self.y))\n",
        "\n",
        "        db=(1/self.m)*np.sum(y_hat-self.y)\n",
        "\n",
        "        #updatingn weights and bias using gradient descent eqtn\n",
        "\n",
        "        self.w=self.w - self.learning_rate*dw\n",
        "\n",
        "        self.b=self.b - self.learning_rate*db\n",
        "\n",
        "        #sigmoid equation and desecion boundary\n",
        "\n",
        "    def predict(self,x):\n",
        "        y_pred=1/(1+np.exp(-x.dot(self.w)+self.b))\n",
        "        y_pred=np.where(y_pred>0.5,1,0)\n",
        "        return y_pred"
      ],
      "metadata": {
        "id": "zncygBNCjcFG"
      },
      "execution_count": 26,
      "outputs": []
    },
    {
      "cell_type": "code",
      "source": [
        "model=LogisticRegression(learning_rate=0.01,no_of_iterations=1000)"
      ],
      "metadata": {
        "id": "MKndnRKemuEM"
      },
      "execution_count": 27,
      "outputs": []
    },
    {
      "cell_type": "code",
      "source": [
        "dataset=pd.read_csv('/content/diabetes2.csv')\n",
        "x=dataset.iloc[:,:-1].values\n",
        "y=dataset.iloc[:,-1].values"
      ],
      "metadata": {
        "id": "aAqwxza1mzCe"
      },
      "execution_count": 28,
      "outputs": []
    },
    {
      "cell_type": "code",
      "source": [
        "from sklearn.model_selection import train_test_split\n",
        "from sklearn.preprocessing import StandardScaler\n",
        "from sklearn.metrics import accuracy_score"
      ],
      "metadata": {
        "id": "a4NQ8T11w_UN"
      },
      "execution_count": 29,
      "outputs": []
    },
    {
      "cell_type": "code",
      "source": [
        "sc=StandardScaler()\n",
        "x=sc.fit_transform(x)"
      ],
      "metadata": {
        "id": "R260KyoaxWcp"
      },
      "execution_count": 30,
      "outputs": []
    },
    {
      "cell_type": "code",
      "source": [
        "print(x)"
      ],
      "metadata": {
        "colab": {
          "base_uri": "https://localhost:8080/"
        },
        "id": "CXnFoWwqyFD0",
        "outputId": "4281bb41-bdf6-4335-c017-83fa58351eb4"
      },
      "execution_count": 31,
      "outputs": [
        {
          "output_type": "stream",
          "name": "stdout",
          "text": [
            "[[ 0.63994726  0.84832379  0.14964075 ...  0.20401277  0.46849198\n",
            "   1.4259954 ]\n",
            " [-0.84488505 -1.12339636 -0.16054575 ... -0.68442195 -0.36506078\n",
            "  -0.19067191]\n",
            " [ 1.23388019  1.94372388 -0.26394125 ... -1.10325546  0.60439732\n",
            "  -0.10558415]\n",
            " ...\n",
            " [ 0.3429808   0.00330087  0.14964075 ... -0.73518964 -0.68519336\n",
            "  -0.27575966]\n",
            " [-0.84488505  0.1597866  -0.47073225 ... -0.24020459 -0.37110101\n",
            "   1.17073215]\n",
            " [-0.84488505 -0.8730192   0.04624525 ... -0.20212881 -0.47378505\n",
            "  -0.87137393]]\n"
          ]
        }
      ]
    },
    {
      "cell_type": "code",
      "source": [
        "x_train,x_test,y_train,y_test=train_test_split(x,y,test_size=0.2,random_state=0)"
      ],
      "metadata": {
        "id": "L3TQTVnM1MEm"
      },
      "execution_count": 32,
      "outputs": []
    },
    {
      "cell_type": "code",
      "source": [
        "classifier=Log_Reg.LogisticRegression(learning_rate=0.01,no_of_iterations=1000)"
      ],
      "metadata": {
        "id": "c1Pdd-EryQGn"
      },
      "execution_count": 46,
      "outputs": []
    },
    {
      "cell_type": "code",
      "metadata": {
        "id": "4345b60a"
      },
      "source": [
        "# Fit the classifier to the training data\n",
        "classifier.fit(x_train, y_train)"
      ],
      "execution_count": 34,
      "outputs": []
    },
    {
      "cell_type": "code",
      "metadata": {
        "id": "c05f4c21"
      },
      "source": [
        "# Make predictions on the train data\n",
        "x_train_pred = classifier.predict(x_train)"
      ],
      "execution_count": 35,
      "outputs": []
    },
    {
      "cell_type": "code",
      "metadata": {
        "colab": {
          "base_uri": "https://localhost:8080/"
        },
        "id": "c062fc63",
        "outputId": "a1908296-138d-4e7c-ae54-97ae0a562729"
      },
      "source": [
        "# Calculate and print the accuracy score\n",
        "accuracy = accuracy_score(y_train, x_train_pred)\n",
        "print(f\"Accuracy: {accuracy}\")"
      ],
      "execution_count": 36,
      "outputs": [
        {
          "output_type": "stream",
          "name": "stdout",
          "text": [
            "Accuracy: 0.3729641693811075\n"
          ]
        }
      ]
    },
    {
      "cell_type": "code",
      "source": [
        "x_test.shape"
      ],
      "metadata": {
        "colab": {
          "base_uri": "https://localhost:8080/"
        },
        "id": "C7ablrzt2kap",
        "outputId": "f99231d8-a97b-414b-8208-e0661596d9ec"
      },
      "execution_count": 37,
      "outputs": [
        {
          "output_type": "execute_result",
          "data": {
            "text/plain": [
              "(154, 8)"
            ]
          },
          "metadata": {},
          "execution_count": 37
        }
      ]
    },
    {
      "cell_type": "code",
      "source": [
        "# Make predictions on the test data\n",
        "x_test_pred = classifier.predict(x_test)"
      ],
      "metadata": {
        "id": "T2CzH2Duzngl"
      },
      "execution_count": 38,
      "outputs": []
    },
    {
      "cell_type": "code",
      "source": [
        "x_test_pred.shape"
      ],
      "metadata": {
        "colab": {
          "base_uri": "https://localhost:8080/"
        },
        "id": "h8bGSVS_3gT2",
        "outputId": "2b4f42c6-7db1-4811-b67e-99221876c637"
      },
      "execution_count": 39,
      "outputs": [
        {
          "output_type": "execute_result",
          "data": {
            "text/plain": [
              "(154,)"
            ]
          },
          "metadata": {},
          "execution_count": 39
        }
      ]
    },
    {
      "cell_type": "code",
      "metadata": {
        "colab": {
          "base_uri": "https://localhost:8080/"
        },
        "id": "428ebc73",
        "outputId": "6bcf9a98-b849-40ff-f079-1f665b619f33"
      },
      "source": [
        "# Calculate and print the accuracy score\n",
        "accuracy = accuracy_score(y_test, x_test_pred)\n",
        "print(f\"Accuracy: {accuracy}\")"
      ],
      "execution_count": 42,
      "outputs": [
        {
          "output_type": "stream",
          "name": "stdout",
          "text": [
            "Accuracy: 0.3181818181818182\n"
          ]
        }
      ]
    },
    {
      "cell_type": "markdown",
      "source": [
        "Predictive system"
      ],
      "metadata": {
        "id": "f-YkRSiUXA4M"
      }
    },
    {
      "cell_type": "code",
      "source": [
        "input_data=(5,166,72,19,175,25.8,0.587,51)\n",
        "input_data_as_array=np.asarray(input_data)\n",
        "input_data_reshaped=input_data_as_array.reshape(1,-1)\n",
        "std_data=sc.transform(input_data_reshaped)\n",
        "print(std_data)\n",
        "prediction=classifier.predict(std_data)\n",
        "print(prediction)\n",
        "\n",
        "if prediction[0]==0:\n",
        "  print('The person is not diabetic')\n",
        "else:\n",
        "  print('The person is diabetic')"
      ],
      "metadata": {
        "colab": {
          "base_uri": "https://localhost:8080/"
        },
        "id": "qnMvmZU8Wlh4",
        "outputId": "800b5813-b7a6-439c-9139-de2491c284f7"
      },
      "execution_count": 44,
      "outputs": [
        {
          "output_type": "stream",
          "name": "stdout",
          "text": [
            "[[ 0.3429808   1.41167241  0.14964075 -0.09637905  0.82661621 -0.78595734\n",
            "   0.34768723  1.51108316]]\n",
            "[1]\n",
            "The person is diabetic\n"
          ]
        }
      ]
    }
  ]
}