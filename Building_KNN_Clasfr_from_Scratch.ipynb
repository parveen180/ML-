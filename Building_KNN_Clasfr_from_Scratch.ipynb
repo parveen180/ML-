{
  "nbformat": 4,
  "nbformat_minor": 0,
  "metadata": {
    "colab": {
      "provenance": [],
      "authorship_tag": "ABX9TyMGGoHeb9ePDu89VZX5VIFe",
      "include_colab_link": true
    },
    "kernelspec": {
      "name": "python3",
      "display_name": "Python 3"
    },
    "language_info": {
      "name": "python"
    }
  },
  "cells": [
    {
      "cell_type": "markdown",
      "metadata": {
        "id": "view-in-github",
        "colab_type": "text"
      },
      "source": [
        "<a href=\"https://colab.research.google.com/github/parveen180/ML-/blob/main/Building_KNN_Clasfr_from_Scratch.ipynb\" target=\"_parent\"><img src=\"https://colab.research.google.com/assets/colab-badge.svg\" alt=\"Open In Colab\"/></a>"
      ]
    },
    {
      "cell_type": "code",
      "execution_count": 8,
      "metadata": {
        "id": "kuMmKQqXaHW3"
      },
      "outputs": [],
      "source": [
        "import numpy as np\n",
        "import statistics"
      ]
    },
    {
      "cell_type": "code",
      "source": [
        "class KNN_classifier():\n",
        "\n",
        "    def __init__(self, distance_metric):\n",
        "\n",
        "        self.distance_metric=distance_metric\n",
        "\n",
        "\n",
        "    def get_distance_metric(self,training_data_point,test_data_point):\n",
        "        if (self.distance_metric=='euclidean'):\n",
        "            dist=0\n",
        "            for i in range(len(training_data_point)-1):\n",
        "                dist+=(training_data_point[i]-test_data_point[i])**2\n",
        "            euclidean_dist=np.sqrt(dist)\n",
        "            return euclidean_dist\n",
        "        elif (self.distance_metric=='manhattan'):\n",
        "            dist=0\n",
        "            for i in range(len(training_data_point)-1):\n",
        "                dist+=abs(training_data_point[i]-test_data_point[i])\n",
        "            manhattan_dist=dist\n",
        "            return manhattan_dist\n",
        "\n",
        "    def nearest_neighbors(self,x_train,test_data,k):\n",
        "        dist_list=[]\n",
        "        for training_data in x_train:\n",
        "            distance=self.get_distance_metric(training_data,test_data)\n",
        "            dist_list.append((training_data,distance))\n",
        "        dist_list.sort(key=lambda x:x[1])\n",
        "\n",
        "        neighbors_list=[]\n",
        "\n",
        "        for j in range(k):\n",
        "            neighbors_list.append(dist_list[j][0])\n",
        "\n",
        "        return neighbors_list\n",
        "\n",
        "\n",
        "\n",
        "    def predict(self,x_train,test_data,k):\n",
        "        neighbors=self.nearest_neighbors(x_train,test_data,k)\n",
        "\n",
        "        for data in neighbors:\n",
        "            label=[]\n",
        "        label.append(data[-1])\n",
        "        predicted_class=statistics.mode(label)\n",
        "        return predicted_class\n",
        "\n",
        "\n"
      ],
      "metadata": {
        "id": "sc0gxWBDa4fj"
      },
      "execution_count": 9,
      "outputs": []
    },
    {
      "cell_type": "code",
      "source": [
        "classifier=KNN_classifier(distance_metric='euclidean')\n"
      ],
      "metadata": {
        "id": "6JCfVIpDcPFk"
      },
      "execution_count": 10,
      "outputs": []
    },
    {
      "cell_type": "code",
      "source": [
        "import pandas as pd\n",
        "from sklearn.model_selection import train_test_split\n",
        "from sklearn.metrics import accuracy_score"
      ],
      "metadata": {
        "id": "ISgd1Llph8hG"
      },
      "execution_count": 11,
      "outputs": []
    },
    {
      "cell_type": "code",
      "source": [
        "dataset=pd.read_csv('/content/diabetes2.csv')\n",
        "x=dataset.iloc[:,:-1].values\n",
        "y=dataset.iloc[:,:1].values"
      ],
      "metadata": {
        "id": "A1twV326iUwG"
      },
      "execution_count": 12,
      "outputs": []
    },
    {
      "cell_type": "code",
      "source": [
        "x_train,x_test,y_train,y_test=train_test_split(x,y,test_size=0.2,random_state=0)"
      ],
      "metadata": {
        "id": "zOCX4-0UioeB"
      },
      "execution_count": 13,
      "outputs": []
    },
    {
      "cell_type": "code",
      "source": [
        "classifier=KNN_classifier(distance_metric='manhattan')"
      ],
      "metadata": {
        "id": "hiLVLXFwirer"
      },
      "execution_count": 17,
      "outputs": []
    },
    {
      "cell_type": "code",
      "source": [
        "print(classifier.predict(x_train,x_test[0],k=11))"
      ],
      "metadata": {
        "colab": {
          "base_uri": "https://localhost:8080/"
        },
        "id": "kj0ILhH1iw8w",
        "outputId": "f3d6f573-7070-4fc7-ad6a-952f218c132d"
      },
      "execution_count": 18,
      "outputs": [
        {
          "output_type": "stream",
          "name": "stdout",
          "text": [
            "21.0\n"
          ]
        }
      ]
    }
  ]
}