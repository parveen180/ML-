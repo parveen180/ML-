{
  "nbformat": 4,
  "nbformat_minor": 0,
  "metadata": {
    "colab": {
      "provenance": [],
      "authorship_tag": "ABX9TyN5ekEYrXiFQxZk1hnr/RIl",
      "include_colab_link": true
    },
    "kernelspec": {
      "name": "python3",
      "display_name": "Python 3"
    },
    "language_info": {
      "name": "python"
    }
  },
  "cells": [
    {
      "cell_type": "markdown",
      "metadata": {
        "id": "view-in-github",
        "colab_type": "text"
      },
      "source": [
        "<a href=\"https://colab.research.google.com/github/parveen180/ML-/blob/main/Euclidean%26ManhattanDist.ipynb\" target=\"_parent\"><img src=\"https://colab.research.google.com/assets/colab-badge.svg\" alt=\"Open In Colab\"/></a>"
      ]
    },
    {
      "cell_type": "code",
      "execution_count": 8,
      "metadata": {
        "id": "-TLoe7c_2vV6"
      },
      "outputs": [],
      "source": [
        "import numpy as np\n",
        "import matplotlib.pyplot as plt\n",
        "import pandas as pd"
      ]
    },
    {
      "cell_type": "markdown",
      "source": [
        "Euclidean Distance"
      ],
      "metadata": {
        "id": "9afIuLw5XS1Z"
      }
    },
    {
      "cell_type": "code",
      "source": [
        "def euclidean_dist(p1,p2):\n",
        "    dist=0\n",
        "    for i in range(len(p1)):\n",
        "        dist=dist+(p1[i]-p2[i])**2\n",
        "\n",
        "        euclidean_dist=np.sqrt(dist)\n",
        "    print(euclidean_dist)\n"
      ],
      "metadata": {
        "id": "h8DN2GSGWXHg"
      },
      "execution_count": 2,
      "outputs": []
    },
    {
      "cell_type": "code",
      "source": [
        "euclidean_dist((1,1,1),(2,2,2))"
      ],
      "metadata": {
        "colab": {
          "base_uri": "https://localhost:8080/"
        },
        "id": "E2JtD120WXAY",
        "outputId": "0f291ed9-6eba-4aaf-8c60-c63efafbca07"
      },
      "execution_count": 5,
      "outputs": [
        {
          "output_type": "stream",
          "name": "stdout",
          "text": [
            "1.7320508075688772\n"
          ]
        }
      ]
    },
    {
      "cell_type": "markdown",
      "source": [
        "Manhattan distance"
      ],
      "metadata": {
        "id": "Xc_PjrI5XVpd"
      }
    },
    {
      "cell_type": "code",
      "source": [
        "def manhattan_dist(p1,p2):\n",
        "    dist=0\n",
        "    for i in range(len(p1)):\n",
        "        dist=dist+abs(p1[i]-p2[i])\n",
        "        manhattan_dist=dist\n",
        "    print(manhattan_dist)"
      ],
      "metadata": {
        "id": "X0ABAeOaXXY8"
      },
      "execution_count": 6,
      "outputs": []
    },
    {
      "cell_type": "code",
      "source": [
        "manhattan_dist((1,1,1),(2,2,2))"
      ],
      "metadata": {
        "colab": {
          "base_uri": "https://localhost:8080/"
        },
        "id": "xquD5ldrXqZV",
        "outputId": "aabe5314-8f8a-4a8b-ee75-6b7af9ab5884"
      },
      "execution_count": 7,
      "outputs": [
        {
          "output_type": "stream",
          "name": "stdout",
          "text": [
            "3\n"
          ]
        }
      ]
    },
    {
      "cell_type": "code",
      "source": [
        "print(euclidean_dist((63,1,3,145,233,1,0,150,0,2.3,0,0,1),(37,1,2,130,250,0,1,187,0,3.5,0,0,2)))\n",
        "print(manhattan_dist((63,1,3,145,233,1,0,150,0,2.3,0,0,1),(37,1,2,130,250,0,1,187,0,3.5,0,0,2)))"
      ],
      "metadata": {
        "colab": {
          "base_uri": "https://localhost:8080/"
        },
        "id": "XqtSxvukYLBk",
        "outputId": "4720de1f-f0ac-4e3e-db11-93ce6adf94ab"
      },
      "execution_count": 10,
      "outputs": [
        {
          "output_type": "stream",
          "name": "stdout",
          "text": [
            "50.640300157088326\n",
            "None\n",
            "100.2\n",
            "None\n"
          ]
        }
      ]
    },
    {
      "cell_type": "code",
      "source": [
        "print(euclidean_dist((41,0,1,130,204,0,0,172,0,1.4,2,0,2),(60,1,0,130,253,0,1,144,1,1.4,2,1,3)))\n",
        "print(manhattan_dist((41,0,1,130,204,0,0,172,0,1.4,2,0,2),(60,1,0,130,253,0,1,144,1,1.4,2,1,3)))"
      ],
      "metadata": {
        "colab": {
          "base_uri": "https://localhost:8080/"
        },
        "id": "T71u69DnZfgy",
        "outputId": "a9626cb0-e327-4f99-cb7a-2a2be5beb8a9"
      },
      "execution_count": 12,
      "outputs": [
        {
          "output_type": "stream",
          "name": "stdout",
          "text": [
            "59.59865770300536\n",
            "None\n",
            "102.0\n",
            "None\n"
          ]
        }
      ]
    }
  ]
}