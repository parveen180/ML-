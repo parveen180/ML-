{
  "nbformat": 4,
  "nbformat_minor": 0,
  "metadata": {
    "colab": {
      "provenance": [],
      "authorship_tag": "ABX9TyPJ/5e9w0LMFXVoxla+RUBC",
      "include_colab_link": true
    },
    "kernelspec": {
      "name": "python3",
      "display_name": "Python 3"
    },
    "language_info": {
      "name": "python"
    }
  },
  "cells": [
    {
      "cell_type": "markdown",
      "metadata": {
        "id": "view-in-github",
        "colab_type": "text"
      },
      "source": [
        "<a href=\"https://colab.research.google.com/github/parveen180/ML-/blob/main/Building_LassoRegression_from_Scratch.ipynb\" target=\"_parent\"><img src=\"https://colab.research.google.com/assets/colab-badge.svg\" alt=\"Open In Colab\"/></a>"
      ]
    },
    {
      "cell_type": "markdown",
      "source": [
        "Lasso Regression\n",
        "\n",
        "y=wx+b"
      ],
      "metadata": {
        "id": "PxOqmuI_tCqB"
      }
    },
    {
      "cell_type": "markdown",
      "source": [
        "gradient descent\n",
        "\n",
        "w=w -a*dw\n",
        "\n",
        "b=b-a*db"
      ],
      "metadata": {
        "id": "oi5imIyztH-8"
      }
    },
    {
      "cell_type": "markdown",
      "source": [
        "if(wj>0)\n",
        "\n",
        "(dj/dw)=-2/m [[( Σmi=1 xj(y-yi^)+λ]]\n",
        "\n",
        "if(wj<0)\n",
        "\n",
        "(dj/dw)=-2/m [[( Σmi=1 xj(y-yi^)-λ]]"
      ],
      "metadata": {
        "id": "Gl7vvq0BtTIt"
      }
    },
    {
      "cell_type": "markdown",
      "source": [
        "(dj/db)=-2/m [[( Σmi=1 (y-yi^)]]"
      ],
      "metadata": {
        "id": "xRkuHT6PvLan"
      }
    },
    {
      "cell_type": "code",
      "execution_count": 59,
      "metadata": {
        "id": "WfH6lDhooJ__"
      },
      "outputs": [],
      "source": [
        "import numpy as np"
      ]
    },
    {
      "cell_type": "code",
      "source": [
        "# creating a class for Lasso Regression\n",
        "\n",
        "class Lasso_Regression():\n",
        "\n",
        "  #initiating the hyperparameters\n",
        "  def __init__(self, learning_rate, no_of_iterations, lambda_parameter):\n",
        "\n",
        "    self.learning_rate = learning_rate\n",
        "    self.no_of_iterations = no_of_iterations\n",
        "    self.lambda_parameter = lambda_parameter\n",
        "\n",
        "\n",
        "  # fitting the dataset to the Lasso Regression model\n",
        "  def fit(self, X, Y):\n",
        "\n",
        "    # m --> number of Data points --> number of rows\n",
        "    # n --> number of input features --> number of columns\n",
        "    self.m, self.n = X.shape\n",
        "\n",
        "    self.w = np.zeros(self.n)\n",
        "\n",
        "    self.b = 0\n",
        "\n",
        "    self.X = X\n",
        "\n",
        "    self.Y = Y\n",
        "\n",
        "    # implementing Gradient Descent algorithm for Optimization\n",
        "\n",
        "    for i in range(self.no_of_iterations):     # missed \"self\"\n",
        "      self.upadte_weights()\n",
        "\n",
        "\n",
        "  # function for updating the weight & bias value\n",
        "  def upadte_weights(self):\n",
        "\n",
        "    # linear equation of the model\n",
        "    Y_prediction = self.predict(self.X)\n",
        "\n",
        "    # gradients (dw, db)\n",
        "\n",
        "    # gradient for weight\n",
        "    dw = np.zeros(self.n)\n",
        "\n",
        "    for i in range(self.n):\n",
        "\n",
        "      if self.w[i]>0:\n",
        "\n",
        "        dw[i] = (-(2*(self.X[:,i]).dot(self.Y - Y_prediction)) + self.lambda_parameter) / self.m\n",
        "\n",
        "      else :\n",
        "\n",
        "        dw[i] = (-(2*(self.X[:,i]).dot(self.Y - Y_prediction)) - self.lambda_parameter) / self.m\n",
        "\n",
        "\n",
        "    # gradient for bias\n",
        "    db = - 2 * np.sum(self.Y - Y_prediction) / self.m\n",
        "\n",
        "\n",
        "    # updating the weights & bias\n",
        "\n",
        "    self.w = self.w - self.learning_rate*dw\n",
        "    self.b = self.b - self.learning_rate*db\n",
        "\n",
        "\n",
        "\n",
        "\n",
        "  # Predicting the Target variable\n",
        "  def predict(self,X):\n",
        "\n",
        "    return X.dot(self.w) + self.b\n",
        "\n",
        "\n"
      ],
      "metadata": {
        "id": "EyIgVtEwsZEP"
      },
      "execution_count": 60,
      "outputs": []
    },
    {
      "cell_type": "code",
      "source": [
        "model=Lasso_Regression(learning_rate=0.01,no_of_iterations=1000,lambda_parameter=0.1)"
      ],
      "metadata": {
        "id": "xbDEvAq6zti9"
      },
      "execution_count": 61,
      "outputs": []
    },
    {
      "cell_type": "code",
      "source": [
        "import pandas as pd"
      ],
      "metadata": {
        "id": "p1_N6FIIy6nd"
      },
      "execution_count": 62,
      "outputs": []
    },
    {
      "cell_type": "code",
      "source": [
        "dataset=pd.read_csv('Salary_Data.csv')\n",
        "x=dataset.iloc[:,:-1].values\n",
        "y=dataset.iloc[:,-1].values"
      ],
      "metadata": {
        "id": "Pbftp5LyzGSP"
      },
      "execution_count": 63,
      "outputs": []
    },
    {
      "cell_type": "code",
      "source": [
        "from sklearn.model_selection import train_test_split\n",
        "from sklearn.preprocessing import StandardScaler\n",
        "from sklearn.metrics import accuracy_score"
      ],
      "metadata": {
        "id": "l1G56sQ_zhrc"
      },
      "execution_count": 64,
      "outputs": []
    },
    {
      "cell_type": "code",
      "source": [
        "sc=StandardScaler()\n",
        "x=sc.fit_transform(x)"
      ],
      "metadata": {
        "id": "_SxbGrZHzlgj"
      },
      "execution_count": 65,
      "outputs": []
    },
    {
      "cell_type": "code",
      "source": [
        "x_train,x_test,y_train,y_test=train_test_split(x,y,test_size=0.2,random_state=0)"
      ],
      "metadata": {
        "id": "uEvkIMNazn_z"
      },
      "execution_count": 66,
      "outputs": []
    },
    {
      "cell_type": "code",
      "source": [
        "regressor=Lasso_Regression(learning_rate=0.01,no_of_iterations=1000,lambda_parameter=0.1)"
      ],
      "metadata": {
        "id": "2FISsDrWzq7T"
      },
      "execution_count": 67,
      "outputs": []
    },
    {
      "cell_type": "code",
      "source": [
        "regressor.fit(x_train, y_train)"
      ],
      "metadata": {
        "id": "1P3bp_Ksz9Td"
      },
      "execution_count": 68,
      "outputs": []
    },
    {
      "cell_type": "code",
      "source": [
        "# Make predictions on the train data\n",
        "x_train_pred = regressor.predict(x_train)"
      ],
      "metadata": {
        "id": "8dHwXTtS0BA4"
      },
      "execution_count": 69,
      "outputs": []
    },
    {
      "cell_type": "code",
      "source": [
        "print(x_train_pred)"
      ],
      "metadata": {
        "colab": {
          "base_uri": "https://localhost:8080/"
        },
        "id": "OGEhu_FX1SNm",
        "outputId": "2ea6e2d1-8c59-4de3-aee6-8d64872a73a8"
      },
      "execution_count": 71,
      "outputs": [
        {
          "output_type": "stream",
          "name": "stdout",
          "text": [
            "[116180.80937106  64030.40041966  76136.7453548  100349.4352251\n",
            "  53786.57008992  74274.2307494   56580.34199803  68686.68693318\n",
            " 103143.20713321  90105.60489536  38886.45324666 124562.12509539\n",
            "  54717.82739262  47267.76897099  81724.28917103  82655.54647373\n",
            "  61236.62851155  56580.34199803 110593.26555484  45405.25436559\n",
            "  37023.93864126  92899.37680347  72411.71614399  64030.40041966]\n"
          ]
        }
      ]
    },
    {
      "cell_type": "code",
      "source": [
        "# Make predictions on the test data\n",
        "x_test_pred = regressor.predict(x_test)"
      ],
      "metadata": {
        "id": "e-8cz0h40Kbf"
      },
      "execution_count": 70,
      "outputs": []
    },
    {
      "cell_type": "code",
      "source": [
        "print(x_test_pred)"
      ],
      "metadata": {
        "colab": {
          "base_uri": "https://localhost:8080/"
        },
        "id": "7Tw1yBuo1V2g",
        "outputId": "f9d1af46-52f7-412d-d53b-63b5b95dfcac"
      },
      "execution_count": 72,
      "outputs": [
        {
          "output_type": "stream",
          "name": "stdout",
          "text": [
            "[ 40748.96785207 122699.61048998  64961.65772236  63099.14311695\n",
            " 115249.55206835 107799.49364673]\n"
          ]
        }
      ]
    },
    {
      "cell_type": "code",
      "source": [
        "import matplotlib.pyplot as plt"
      ],
      "metadata": {
        "id": "alGPZErO1bw3"
      },
      "execution_count": 73,
      "outputs": []
    },
    {
      "cell_type": "code",
      "source": [
        "plt.scatter(x_test, y_test, color = 'red')\n",
        "plt.plot(x_train, x_train_pred, color='blue')\n",
        "plt.xlabel(' Work Experience')\n",
        "plt.ylabel('Salary')\n",
        "plt.title(' Salary vs Experience')\n",
        "plt.show()"
      ],
      "metadata": {
        "colab": {
          "base_uri": "https://localhost:8080/",
          "height": 472
        },
        "id": "rpNivdQt1Yt8",
        "outputId": "5af0866d-463c-44e2-cbcd-6bce90f11472"
      },
      "execution_count": 76,
      "outputs": [
        {
          "output_type": "display_data",
          "data": {
            "text/plain": [
              "<Figure size 640x480 with 1 Axes>"
            ],
            "image/png": "[encoded data removed]"
          },
          "metadata": {}
        }
      ]
    }
  ]
}