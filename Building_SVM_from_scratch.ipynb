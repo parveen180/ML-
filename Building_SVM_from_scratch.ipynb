{
  "nbformat": 4,
  "nbformat_minor": 0,
  "metadata": {
    "colab": {
      "provenance": [],
      "authorship_tag": "ABX9TyMk7QomBwJO6MEEU5YSin4c",
      "include_colab_link": true
    },
    "kernelspec": {
      "name": "python3",
      "display_name": "Python 3"
    },
    "language_info": {
      "name": "python"
    }
  },
  "cells": [
    {
      "cell_type": "markdown",
      "metadata": {
        "id": "view-in-github",
        "colab_type": "text"
      },
      "source": [
        "<a href=\"https://colab.research.google.com/github/parveen180/ML-/blob/main/Building_SVM_from_scratch.ipynb\" target=\"_parent\"><img src=\"https://colab.research.google.com/assets/colab-badge.svg\" alt=\"Open In Colab\"/></a>"
      ]
    },
    {
      "cell_type": "markdown",
      "source": [
        "SVM CLASSIFIER"
      ],
      "metadata": {
        "id": "FAony8iuxxg2"
      }
    },
    {
      "cell_type": "markdown",
      "source": [
        "equation of hyperplane\n",
        "y=wx-b"
      ],
      "metadata": {
        "id": "i2K9LyHCx19p"
      }
    },
    {
      "cell_type": "markdown",
      "source": [
        "gradient descent\n",
        "\n",
        "\n",
        "*  w=w-a*dw\n",
        "\n",
        "* b=b-a*db\n",
        "\n"
      ],
      "metadata": {
        "id": "jFIxBt2gyAdv"
      }
    },
    {
      "cell_type": "markdown",
      "source": [
        "Learning rate:\n",
        "learning rate is a tuning parameter in an optimization algorithm that determines the step size at each iteration while moving toward a min of a loss functn"
      ],
      "metadata": {
        "id": "G1-oxStfykSs"
      }
    },
    {
      "cell_type": "code",
      "execution_count": 1,
      "metadata": {
        "id": "9BuwMmFUa83O"
      },
      "outputs": [],
      "source": [
        "import numpy as np\n",
        "import pandas as pd\n",
        "from sklearn.preprocessing import StandardScaler\n",
        "from sklearn.metrics import accuracy_score\n",
        "from sklearn.model_selection import train_test_split"
      ]
    },
    {
      "cell_type": "code",
      "source": [
        "class SVM_classifier():\n",
        "\n",
        "    def __init__(self,learning_rate,no_of_iterations,lambda_parameter):\n",
        "\n",
        "        self.learning_rate=learning_rate\n",
        "\n",
        "        self.no_of_iterations=no_of_iterations\n",
        "\n",
        "        self.lambda_parameter=lambda_parameter\n",
        "\n",
        "    def fit(self,x,y):\n",
        "\n",
        "        self.m,self.n=x.shape\n",
        "        self.w=np.zeros(self.n)\n",
        "        self.b=0\n",
        "        self.x=x\n",
        "        self.y=y\n",
        "\n",
        "        for i in range(self.no_of_iterations):\n",
        "\n",
        "            self.update_weights()\n",
        "\n",
        "    def update_weights(self):\n",
        "\n",
        "        #label encoding\n",
        "\n",
        "        y_label=np.where(self.y<=0,-1,1)\n",
        "\n",
        "        for index,x_i in enumerate(self.x):\n",
        "            condition = y_label[index] * (np.dot(x_i,self.w)-self.b)>=1\n",
        "\n",
        "            if(condition==True):\n",
        "\n",
        "                dw=2*self.lambda_parameter*self.w\n",
        "                db=0\n",
        "\n",
        "            else:\n",
        "                dw=2*self.lambda_parameter*self.w-np.dot(x_i,y_label[index])\n",
        "                db=y_label[index]\n",
        "\n",
        "            self.w=self.w-self.learning_rate*dw\n",
        "            self.b=self.b-self.learning_rate*db\n",
        "\n",
        "\n",
        "\n",
        "\n",
        "    def predict(self,x):\n",
        "        output=np.dot(x,self.w)-self.b\n",
        "\n",
        "        predicted_labels=np.sign(output)\n",
        "\n",
        "        y_hat=np.where(predicted_labels<=-1,0,1)\n",
        "\n",
        "        return y_hat"
      ],
      "metadata": {
        "id": "IlosFsYt6KjO"
      },
      "execution_count": 2,
      "outputs": []
    },
    {
      "cell_type": "code",
      "source": [
        "model=SVM_classifier(learning_rate=0.001,no_of_iterations=1000,lambda_parameter=0.01)"
      ],
      "metadata": {
        "id": "INFsGKv80nyG"
      },
      "execution_count": 3,
      "outputs": []
    },
    {
      "cell_type": "code",
      "source": [
        "dataset=pd.read_csv('/content/diabetes2.csv')\n",
        "x=dataset.iloc[:,:-1].values\n",
        "y=dataset.iloc[:,-1].values"
      ],
      "metadata": {
        "id": "29ochrJu6KAZ"
      },
      "execution_count": 4,
      "outputs": []
    },
    {
      "cell_type": "code",
      "source": [
        "sc=StandardScaler()\n",
        "x=sc.fit_transform(x)"
      ],
      "metadata": {
        "id": "rV8II54cRDvq"
      },
      "execution_count": 5,
      "outputs": []
    },
    {
      "cell_type": "code",
      "source": [
        "x_train,x_test,y_train,y_test=train_test_split(x,y,test_size=0.2,random_state=2)"
      ],
      "metadata": {
        "id": "-0AWfijoRT4W"
      },
      "execution_count": 6,
      "outputs": []
    },
    {
      "cell_type": "code",
      "source": [
        "classifier=SVM_classifier(learning_rate=0.001,no_of_iterations=1000,lambda_parameter=0.01)"
      ],
      "metadata": {
        "id": "L0X0Jek-Rh2u"
      },
      "execution_count": 7,
      "outputs": []
    },
    {
      "cell_type": "code",
      "source": [
        "classifier.fit(x_train,y_train)"
      ],
      "metadata": {
        "id": "tUv8_4S0RnUR"
      },
      "execution_count": 8,
      "outputs": []
    },
    {
      "cell_type": "code",
      "source": [
        "y_pred_test=classifier.predict(x_test)"
      ],
      "metadata": {
        "id": "KsvblEpFRpsZ"
      },
      "execution_count": 9,
      "outputs": []
    },
    {
      "cell_type": "code",
      "source": [
        "accuracy = accuracy_score(y_test, y_pred_test)\n",
        "print(f\"Accuracy: {accuracy}\")"
      ],
      "metadata": {
        "colab": {
          "base_uri": "https://localhost:8080/"
        },
        "id": "958pBiaIR6V_",
        "outputId": "29633034-02d5-4da5-db86-f459b8b59298"
      },
      "execution_count": 11,
      "outputs": [
        {
          "output_type": "stream",
          "name": "stdout",
          "text": [
            "Accuracy: 0.7532467532467533\n"
          ]
        }
      ]
    },
    {
      "cell_type": "code",
      "source": [
        "y_pred_train=classifier.predict(x_train)"
      ],
      "metadata": {
        "id": "zL7jchNpSDZB"
      },
      "execution_count": 12,
      "outputs": []
    },
    {
      "cell_type": "code",
      "source": [
        "accuracy = accuracy_score(y_train, y_pred_train)\n",
        "print(f\"Accuracy: {accuracy}\")"
      ],
      "metadata": {
        "colab": {
          "base_uri": "https://localhost:8080/"
        },
        "id": "Oppfqn9ASOTL",
        "outputId": "4bcad417-43f9-440b-a236-864bde1ce358"
      },
      "execution_count": 13,
      "outputs": [
        {
          "output_type": "stream",
          "name": "stdout",
          "text": [
            "Accuracy: 0.7768729641693811\n"
          ]
        }
      ]
    },
    {
      "cell_type": "code",
      "source": [
        "input_data=(5,116,74,0,0,25.6,0.201,30)\n",
        "\n",
        "input_data_as_numpy_array=np.asarray(input_data)\n",
        "\n",
        "input_data_reshaped=input_data_as_numpy_array.reshape(1,-1)\n",
        "\n",
        "std_data=sc.transform(input_data_reshaped)\n",
        "\n",
        "print(std_data)\n",
        "\n",
        "prediction=classifier.predict(std_data)\n",
        "\n",
        "print(prediction)\n",
        "\n",
        "\n",
        "if(prediction[0]==0):\n",
        "\n",
        "  print(\"The person is not diabetic\")\n",
        "\n",
        "else:\n",
        "\n",
        "  print(\"The person is diabetic\")\n"
      ],
      "metadata": {
        "colab": {
          "base_uri": "https://localhost:8080/"
        },
        "id": "Y-jnqRn_TXln",
        "outputId": "e9fd06ac-4258-4288-831a-ad21d0c75a98"
      },
      "execution_count": 27,
      "outputs": [
        {
          "output_type": "stream",
          "name": "stdout",
          "text": [
            "[[   2.     -10.     -14.     -41.    -235.     -13.7     -0.503    3.   ]]\n",
            "[0]\n",
            "The person is not diabetic\n"
          ]
        }
      ]
    }
  ]
}